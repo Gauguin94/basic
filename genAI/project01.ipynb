{
 "cells": [
  {
   "cell_type": "code",
   "execution_count": null,
   "id": "a3bfb240",
   "metadata": {},
   "outputs": [],
   "source": [
    "import os\n",
    "API_KEY = ''"
   ]
  },
  {
   "cell_type": "code",
   "execution_count": null,
   "id": "ac24b9e6",
   "metadata": {},
   "outputs": [],
   "source": [
    "from langchain_openai import ChatOpenAI\n",
    "from langchain.schema import SystemMessage, HumanMessage\n",
    "\n",
    "\n",
    "# LLM 객체생성\n",
    "llm = ChatOpenAI(\n",
    "    model=\"gpt-4o\",                                 # LLM 모델명\n",
    "    top_p=0.7,                                      # 확률 분포 Cut-off\n",
    "    temperature=1.4,                                # 창의성\n",
    "    max_tokens=500,                                 # 응답 길이 제한\n",
    "    api_key=API_KEY                                 # 환경변수 OPENAI_API_KEY를 기본값으로 읽어옴\n",
    ")"
   ]
  },
  {
   "cell_type": "code",
   "execution_count": 9,
   "id": "3b899508",
   "metadata": {},
   "outputs": [],
   "source": [
    "model_persona = \"너는 IT 시스템의 평가 전문가야. 이번에 개발한 AI를 적용한 회계세무 시스템을 테스트한 고객의 평가 내용인 VOC를 분석하는 것이 너의 역할이야. 판단 근거를 2가지로 함께 제시해줘.\"\n",
    "target_content = \"\"\"\n",
    "    개별 VOC마다 긍정/중립/부정 3단계로 분류하는 작업을 수행할거야.\n",
    "\n",
    "    예시1: 복잡한 엑셀 정리에서 해방됐지만, 제 일자리가 사라질 것 같아요.\n",
    "    -> 중립: 복잡한 일을 처리했지만, AI에게 일자리를 빼앗길 위협을 느낌.\n",
    "\n",
    "    예시2: 엑셀 연동 시 포맷 오류가 잦았지만 감안하고서라도 일처리 속도가 빨라져서 좋았어요.\n",
    "    -> 긍정: 약간의 오류가 있지만, 결과적으론 좋음.\n",
    "\n",
    "    이하는 네가 구분해줘야할 VOC다.\n",
    "\n",
    "    '복잡한 엑셀 정리에서 해방됐어요. 기존 수작업으로 처리하던 매출/비용 분석을 자동화해 시간 절약 효과를 체감했습니다.',\n",
    "    '회계 비전문가인 마케팅 담당자도 재무 지표의 의미를 쉽게 파악할 수 있었습니다.',\n",
    "    '회계 전문가 입장에서는 보완이 필요해보이지만, 일반 사용자에겐 적합할 수도 있겠네요. 어떤 고객을 주 대상으로 할지 더 명확하면 좋겠습니다.',\n",
    "    '엑셀 연동 시 포맷 오류가 잦았습니다. 업로드한 자료가 표준 포맷이 아닐 경우 오류가 자주 발생했습니다.'\n",
    "\n",
    "    부정 VOC일 경우 그렇게 추론한 이유를 2가지로 요약해라.\n",
    "\"\"\""
   ]
  },
  {
   "cell_type": "code",
   "execution_count": 10,
   "id": "d6a3d998",
   "metadata": {},
   "outputs": [
    {
     "name": "stdout",
     "output_type": "stream",
     "text": [
      "1. '복잡한 엑셀 정리에서 해방됐어요. 기존 수작업으로 처리하던 매출/비용 분석을 자동화해 시간 절약 효과를 체감했습니다.'\n",
      "   -> 긍정: 복잡한 엑셀 작업에서 벗어났다는 긍정적인 변화와 시간 절약 효과를 체감한 점을 강조하고 있음.\n",
      "\n",
      "2. '회계 비전문가인 마케팅 담당자도 재무 지표의 의미를 쉽게 파악할 수 있었습니다.'\n",
      "   -> 긍정: 회계 비전문가도 쉽게 이해할 수 있는 점을 긍정적으로 평가하고 있음. 이는 사용성 향상과 접근성 개선을 나타냄.\n",
      "\n",
      "3. '회계 전문가 입장에서는 보완이 필요해보이지만, 일반 사용자에겐 적합할 수도 있겠네요. 어떤 고객을 주 대상으로 할지 더 명확하면 좋겠습니다.'\n",
      "   -> 중립: 전문가 입장에서는 보완이 필요하다는 부정적 요소와 일반 사용자에게는 적합할 수 있다는 긍정적 요소가 모두 존재함. 또한, 고객 대상의 명확성 필요성을 제시함.\n",
      "\n",
      "4. '엑셀 연동 시 포맷 오류가 잦았습니다. 업로드한 자료가 표준 포맷이 아닐 경우 오류가 자주 발생했습니다.'\n",
      "   -> 부정: \n",
      "      - 엑셀 연동 시 발생하는 포맷 오류가 잦다는 점에서 사용자 경험에 부정적인 영향을 미침.\n",
      "      - 표준 포맷이 아닐 경우 오류가 자주 발생하여 사용의 번거로움과 비효율성을 야기함.\n"
     ]
    }
   ],
   "source": [
    "# 대화 메시지 구성\n",
    "messages = [\n",
    "    SystemMessage(content=model_persona),\n",
    "    HumanMessage(content=target_content)\n",
    "]\n",
    "\n",
    "# 응답 생성\n",
    "# invoke() : LangChain에서 모델을 한 번 호출할 때 사용하는 메서드 - 동기식(Sync)으로 입력 → 응답을 바로 반환\n",
    "# ainvoke() : 비동기(Asynchronous) 호출 - 작업을 시작해두고, 끝나길 기다리는 동안 다른 작업을 병행\n",
    "response = llm.invoke(messages)\n",
    "print(response.content)"
   ]
  },
  {
   "cell_type": "code",
   "execution_count": null,
   "id": "e62c9c87",
   "metadata": {},
   "outputs": [],
   "source": []
  }
 ],
 "metadata": {
  "kernelspec": {
   "display_name": "Python 3",
   "language": "python",
   "name": "python3"
  },
  "language_info": {
   "codemirror_mode": {
    "name": "ipython",
    "version": 3
   },
   "file_extension": ".py",
   "mimetype": "text/x-python",
   "name": "python",
   "nbconvert_exporter": "python",
   "pygments_lexer": "ipython3",
   "version": "3.11.9"
  }
 },
 "nbformat": 4,
 "nbformat_minor": 5
}
