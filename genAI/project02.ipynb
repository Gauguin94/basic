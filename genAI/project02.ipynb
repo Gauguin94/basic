{
 "cells": [
  {
   "cell_type": "code",
   "execution_count": null,
   "id": "5edae95f",
   "metadata": {},
   "outputs": [],
   "source": [
    "import os\n",
    "API_KEY = ''"
   ]
  },
  {
   "cell_type": "code",
   "execution_count": 2,
   "id": "c91624f8",
   "metadata": {},
   "outputs": [],
   "source": [
    "from langchain_openai import ChatOpenAI\n",
    "from langchain.schema import SystemMessage, HumanMessage\n",
    "\n",
    "\n",
    "# LLM 객체생성\n",
    "llm = ChatOpenAI(\n",
    "    model=\"gpt-4o\",                                 # LLM 모델명\n",
    "    top_p=0.5,                                      # 확률 분포 Cut-off\n",
    "    temperature=1,                                # 창의성\n",
    "    max_tokens=500,                                 # 응답 길이 제한\n",
    "    api_key=API_KEY                                 # 환경변수 OPENAI_API_KEY를 기본값으로 읽어옴\n",
    ")"
   ]
  },
  {
   "cell_type": "code",
   "execution_count": null,
   "id": "54b1c600",
   "metadata": {},
   "outputs": [],
   "source": [
    "model_persona = \"너는 모든 정보를 규격화시키는 것에 강박증이 있는 사람이야. 특히 규격화된 정보를 json으로 남기지.\"\n",
    "user_prompt = \"\"\"\n",
    "회의실 예약 요청 내용을 시스템적인 관리나 분석에 용이한 규격화된 json 형태로 변환한다.\n",
    "\n",
    "\"\"\""
   ]
  },
  {
   "cell_type": "code",
   "execution_count": null,
   "id": "9012b845",
   "metadata": {},
   "outputs": [],
   "source": []
  }
 ],
 "metadata": {
  "kernelspec": {
   "display_name": "Python 3",
   "language": "python",
   "name": "python3"
  },
  "language_info": {
   "codemirror_mode": {
    "name": "ipython",
    "version": 3
   },
   "file_extension": ".py",
   "mimetype": "text/x-python",
   "name": "python",
   "nbconvert_exporter": "python",
   "pygments_lexer": "ipython3",
   "version": "3.11.9"
  }
 },
 "nbformat": 4,
 "nbformat_minor": 5
}
