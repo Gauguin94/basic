{
 "cells": [
  {
   "cell_type": "code",
   "execution_count": 1,
   "id": "91dd6595",
   "metadata": {},
   "outputs": [],
   "source": [
    "import numpy as np\n",
    "import matplotlib.pyplot as plt\n",
    "import matplotlib.font_manager as fm\n",
    "import seaborn as sns\n",
    "plt.rcParams['font.family'] = 'Malgun Gothic'\n",
    "plt.rcParams['axes.unicode_minus'] = False\n",
    "\n",
    "def softmax(x):\n",
    "    e_x = np.exp(x - np.max(x, axis=-1, keepdims=True))\n",
    "    return e_x / np.sum(e_x, axis=-1, keepdims=True)\n",
    "\n",
    "def scaled_dot_product_attention(Q, K, V):\n",
    "    d_k = Q.shape[-1]\n",
    "    scores = np.matmul(Q, K.T) / np.sqrt(d_k)\n",
    "    weights = softmax(scores)\n",
    "    output = np.matmul(weights, V)\n",
    "    return output, weights\n",
    "\n",
    "def plot_attention_weights(tokens, attention_weights):\n",
    "    plt.figure(figsize=(8, 6))\n",
    "    sns.heatmap(attention_weights, annot=True, fmt=\".2f\", cmap=\"YlGnBu\",\n",
    "                xticklabels=tokens, yticklabels=tokens)\n",
    "    plt.title(\"Attention Weight Heatmap\")\n",
    "    plt.xlabel(\"Key / 입력 단어\")\n",
    "    plt.ylabel(\"Query / 기준 단어\")\n",
    "    plt.show()"
   ]
  },
  {
   "cell_type": "code",
   "execution_count": 2,
   "id": "cc63376f",
   "metadata": {},
   "outputs": [],
   "source": [
    "# 실험 설정\n",
    "tokens = [\"나는\", \"오늘\", \"밥을\", \"먹었다\"]\n",
    "embedding_dim = 32"
   ]
  },
  {
   "cell_type": "code",
   "execution_count": 3,
   "id": "0b5c022f",
   "metadata": {},
   "outputs": [
    {
     "data": {
      "text/plain": [
       "array([[1., 0., 0., 0., 0., 0., 0., 0., 0., 0., 0., 0., 0., 0., 0., 0.,\n",
       "        0., 0., 0., 0., 0., 0., 0., 0., 0., 0., 0., 0., 0., 0., 0., 0.],\n",
       "       [0., 1., 0., 0., 0., 0., 0., 0., 0., 0., 0., 0., 0., 0., 0., 0.,\n",
       "        0., 0., 0., 0., 0., 0., 0., 0., 0., 0., 0., 0., 0., 0., 0., 0.],\n",
       "       [0., 0., 1., 0., 0., 0., 0., 0., 0., 0., 0., 0., 0., 0., 0., 0.,\n",
       "        0., 0., 0., 0., 0., 0., 0., 0., 0., 0., 0., 0., 0., 0., 0., 0.],\n",
       "       [0., 0., 0., 1., 0., 0., 0., 0., 0., 0., 0., 0., 0., 0., 0., 0.,\n",
       "        0., 0., 0., 0., 0., 0., 0., 0., 0., 0., 0., 0., 0., 0., 0., 0.]])"
      ]
     },
     "execution_count": 3,
     "metadata": {},
     "output_type": "execute_result"
    }
   ],
   "source": [
    "# 1. 명확히 구별되는 수동 임베딩 (32차원 one-hot 흉내)\n",
    "token_embeddings = {\n",
    "    \"나는\": np.eye(embedding_dim)[0],\n",
    "    \"오늘\": np.eye(embedding_dim)[1],\n",
    "    \"밥을\": np.eye(embedding_dim)[2],\n",
    "    \"먹었다\": np.eye(embedding_dim)[3],\n",
    "}\n",
    "x = np.array([token_embeddings[t] for t in tokens])  # shape: (4, 32)\n",
    "x"
   ]
  },
  {
   "cell_type": "code",
   "execution_count": 4,
   "id": "8e1da7b5",
   "metadata": {},
   "outputs": [
    {
     "data": {
      "text/plain": [
       "(array([[ 0.49671415, -0.1382643 ,  0.64768854, ..., -0.29169375,\n",
       "         -0.60170661,  1.85227818],\n",
       "        [-0.01349722, -1.05771093,  0.82254491, ..., -0.18565898,\n",
       "         -1.10633497, -1.19620662],\n",
       "        [ 0.81252582,  1.35624003, -0.07201012, ..., -0.32766215,\n",
       "         -0.39210815, -1.46351495],\n",
       "        ...,\n",
       "        [ 1.56552403, -0.06575026, -0.55519953, ...,  0.45675322,\n",
       "          0.56976728,  0.44770856],\n",
       "        [ 0.64272276,  1.32915253,  0.19652117, ...,  0.02688584,\n",
       "          0.20838281, -2.04173487],\n",
       "        [-0.24717738, -0.68198425, -1.00162001, ..., -0.5737    ,\n",
       "         -0.02435459,  2.14227036]], shape=(32, 32)),\n",
       " array([[ 1.72754317e+00,  4.36323670e-01,  3.80034782e-02, ...,\n",
       "          2.60673766e-01, -5.50305154e-01, -6.71623368e-01],\n",
       "        [-2.55540710e-02,  1.17272902e+00,  5.43600155e-01, ...,\n",
       "          4.30041647e-01,  1.03028345e+00,  2.38789159e-01],\n",
       "        [-2.59042146e-01, -1.96349849e-01, -7.16012594e-02, ...,\n",
       "         -5.76187970e-02,  2.01099047e-01,  1.05065440e+00],\n",
       "        ...,\n",
       "        [-9.05732301e-01, -6.53766339e-01, -5.95661294e-01, ...,\n",
       "         -1.37961816e+00, -6.26717225e-01,  8.62393472e-01],\n",
       "        [ 9.53125045e-01,  5.13085420e-01,  7.25095787e-01, ...,\n",
       "         -9.39903101e-01,  8.29474842e-01, -1.93826139e-01],\n",
       "        [-2.64514841e-01, -2.00386236e+00,  6.35418030e-01, ...,\n",
       "          1.12103067e+00,  2.07064918e-04, -9.30032114e-03]],\n",
       "       shape=(32, 32)),\n",
       " array([[-3.27894717e-01,  1.55190684e-01,  8.25098265e-01, ...,\n",
       "          1.20388444e+00, -1.39446276e-01, -4.50189265e-01],\n",
       "        [ 5.27958857e-04,  6.01206749e-01, -1.44385482e+00, ...,\n",
       "          6.03187431e-01, -5.44114002e-01, -1.62792906e-01],\n",
       "        [ 4.09191754e-02, -1.00218746e+00,  7.40824345e-01, ...,\n",
       "          5.08877019e-02,  1.73341664e-01,  2.43953198e-01],\n",
       "        ...,\n",
       "        [ 1.26370668e+00, -8.46315977e-01,  5.43479379e-01, ...,\n",
       "         -1.33548157e+00,  4.86036289e-01, -1.54730399e+00],\n",
       "        [ 1.08269105e+00, -4.71124652e-01, -9.36361887e-02, ...,\n",
       "          1.70463771e-01, -9.62732565e-01, -2.06611280e-01],\n",
       "        [ 6.10216170e-01,  1.56972961e-01, -5.86531270e-01, ...,\n",
       "          6.92722755e-01, -1.26933050e+00,  1.70251466e+00]],\n",
       "       shape=(32, 32)))"
      ]
     },
     "execution_count": 4,
     "metadata": {},
     "output_type": "execute_result"
    }
   ],
   "source": [
    "# 2. W_Q, W_K, W_V 설정 (그대로 쓰거나 약간의 섞임 부여 가능)\n",
    "np.random.seed(42)\n",
    "W_Q = np.random.randn(embedding_dim, embedding_dim)\n",
    "W_K = np.random.randn(embedding_dim, embedding_dim)\n",
    "W_V = np.random.randn(embedding_dim, embedding_dim)\n",
    "W_Q, W_K, W_V"
   ]
  },
  {
   "cell_type": "code",
   "execution_count": 5,
   "id": "247ae022",
   "metadata": {},
   "outputs": [
    {
     "data": {
      "text/plain": [
       "(array([[ 0.49671415, -0.1382643 ,  0.64768854,  1.52302986, -0.23415337,\n",
       "         -0.23413696,  1.57921282,  0.76743473, -0.46947439,  0.54256004,\n",
       "         -0.46341769, -0.46572975,  0.24196227, -1.91328024, -1.72491783,\n",
       "         -0.56228753, -1.01283112,  0.31424733, -0.90802408, -1.4123037 ,\n",
       "          1.46564877, -0.2257763 ,  0.0675282 , -1.42474819, -0.54438272,\n",
       "          0.11092259, -1.15099358,  0.37569802, -0.60063869, -0.29169375,\n",
       "         -0.60170661,  1.85227818],\n",
       "        [-0.01349722, -1.05771093,  0.82254491, -1.22084365,  0.2088636 ,\n",
       "         -1.95967012, -1.32818605,  0.19686124,  0.73846658,  0.17136828,\n",
       "         -0.11564828, -0.3011037 , -1.47852199, -0.71984421, -0.46063877,\n",
       "          1.05712223,  0.34361829, -1.76304016,  0.32408397, -0.38508228,\n",
       "         -0.676922  ,  0.61167629,  1.03099952,  0.93128012, -0.83921752,\n",
       "         -0.30921238,  0.33126343,  0.97554513, -0.47917424, -0.18565898,\n",
       "         -1.10633497, -1.19620662],\n",
       "        [ 0.81252582,  1.35624003, -0.07201012,  1.0035329 ,  0.36163603,\n",
       "         -0.64511975,  0.36139561,  1.53803657, -0.03582604,  1.56464366,\n",
       "         -2.6197451 ,  0.8219025 ,  0.08704707, -0.29900735,  0.09176078,\n",
       "         -1.98756891, -0.21967189,  0.35711257,  1.47789404, -0.51827022,\n",
       "         -0.8084936 , -0.50175704,  0.91540212,  0.32875111, -0.5297602 ,\n",
       "          0.51326743,  0.09707755,  0.96864499, -0.70205309, -0.32766215,\n",
       "         -0.39210815, -1.46351495],\n",
       "        [ 0.29612028,  0.26105527,  0.00511346, -0.23458713, -1.41537074,\n",
       "         -0.42064532, -0.34271452, -0.80227727, -0.16128571,  0.40405086,\n",
       "          1.8861859 ,  0.17457781,  0.25755039, -0.07444592, -1.91877122,\n",
       "         -0.02651388,  0.06023021,  2.46324211, -0.19236096,  0.30154734,\n",
       "         -0.03471177, -1.16867804,  1.14282281,  0.75193303,  0.79103195,\n",
       "         -0.90938745,  1.40279431, -1.40185106,  0.58685709,  2.19045563,\n",
       "         -0.99053633, -0.56629773]]),\n",
       " array([[ 1.72754317,  0.43632367,  0.03800348,  0.12003133,  0.61351797,\n",
       "         -1.02279257, -0.25737654, -1.66858407,  0.39922312,  0.64719594,\n",
       "         -0.48318646,  1.57398676, -1.22576566, -1.46437488,  0.22445182,\n",
       "          1.0470983 ,  1.68392769, -0.45888426,  1.07868083, -0.03850847,\n",
       "         -0.1726273 ,  0.88365994,  0.65232288, -1.57639216,  1.47654035,\n",
       "          1.38009135, -0.6255627 ,  0.39580353,  0.49403019,  0.26067377,\n",
       "         -0.55030515, -0.67162337],\n",
       "        [-0.02555407,  1.17272902,  0.54360015, -0.37061433,  0.77169871,\n",
       "         -2.84854262,  1.1487657 , -1.73971378, -0.36244094, -1.11966989,\n",
       "         -1.29468148,  1.16082679, -0.4677012 ,  0.34650388, -0.04692058,\n",
       "          0.47704083,  0.07682189, -1.28299222,  0.99626682, -0.49375658,\n",
       "         -1.5565819 , -0.42811516,  1.50075979,  0.85022174, -0.34865213,\n",
       "         -0.3492577 , -0.32163505,  2.07674798,  0.38193545,  0.43004165,\n",
       "          1.03028345,  0.23878916],\n",
       "        [-0.25904215, -0.19634985, -0.07160126, -0.03722224,  0.72762954,\n",
       "          0.05194589,  0.73264008, -0.08071658,  0.07863519, -1.99820068,\n",
       "          0.91632767,  0.34648848,  0.99801011, -2.89625538,  2.0883747 ,\n",
       "         -0.13958963,  1.10818282, -1.03990593,  0.61277391, -1.05341556,\n",
       "         -0.62376896,  1.91403135, -0.1906824 ,  0.21743287,  0.87006773,\n",
       "          0.49568189,  0.15041891,  0.364961  ,  2.40341559, -0.0576188 ,\n",
       "          0.20109905,  1.0506544 ],\n",
       "        [ 1.10552593,  1.18703031,  0.63873022, -1.14300491,  1.63343153,\n",
       "         -1.14634539,  0.30263547, -0.75427585, -0.06413835,  0.32876241,\n",
       "          0.32135722,  0.42192075,  1.61371127,  0.4535343 , -0.24415664,\n",
       "          0.96408717,  1.18947049, -1.22760782,  0.59740007,  0.70117274,\n",
       "         -0.2975635 ,  1.37570681, -0.15005559,  0.12557645, -0.17307182,\n",
       "          0.01557905, -1.09627509, -1.44005088,  1.59450506, -0.84696135,\n",
       "         -0.99139235, -2.15339011]]),\n",
       " array([[-3.27894717e-01,  1.55190684e-01,  8.25098265e-01,\n",
       "         -8.67130216e-01, -6.58116489e-01, -3.03726029e-01,\n",
       "         -1.34587092e+00, -8.19257860e-01, -4.76220874e-01,\n",
       "          8.74389181e-01,  2.62561329e-01,  1.93589911e-01,\n",
       "          8.50897962e-01, -1.37371788e-01,  3.90464850e-01,\n",
       "         -1.03221753e-01,  2.65362349e-01, -5.82758658e-01,\n",
       "         -2.43881716e+00, -1.34279162e-01,  1.42274814e+00,\n",
       "          9.26215402e-01,  9.65397485e-01,  1.23613072e+00,\n",
       "          8.86575910e-02,  1.97315707e-01, -6.17651895e-01,\n",
       "         -3.16072856e-01,  6.15771150e-01,  1.20388444e+00,\n",
       "         -1.39446276e-01, -4.50189265e-01],\n",
       "        [ 5.27958857e-04,  6.01206749e-01, -1.44385482e+00,\n",
       "         -2.29618095e+00, -5.50536849e-01, -1.22071243e+00,\n",
       "         -5.08140198e-01, -1.47780319e-01, -4.53248409e-01,\n",
       "          1.45246753e+00,  3.26744765e-01,  3.00474360e-01,\n",
       "          6.22207144e-01, -1.13883312e+00,  1.03911179e+00,\n",
       "         -7.57642865e-02,  6.70480617e-01, -1.07185723e+00,\n",
       "         -1.55375877e+00,  8.17889658e-01,  3.76409526e-01,\n",
       "         -9.02051554e-01, -8.69663081e-01,  1.12543478e+00,\n",
       "         -1.18941189e+00,  1.64267295e+00, -9.00620735e-01,\n",
       "          6.38391926e-01, -3.28618476e-01,  6.03187431e-01,\n",
       "         -5.44114002e-01, -1.62792906e-01],\n",
       "        [ 4.09191754e-02, -1.00218746e+00,  7.40824345e-01,\n",
       "         -5.13213566e-01, -2.28599915e-01, -9.94349375e-01,\n",
       "         -2.56233366e+00, -1.91027763e-01,  2.41261542e+00,\n",
       "          7.84604288e-01, -1.92603797e-02, -2.62890829e-01,\n",
       "          2.24658928e-02,  5.47119115e-01, -1.18081282e+00,\n",
       "          1.11432169e+00,  7.15381315e-01,  7.18185726e-01,\n",
       "          4.38475739e-01,  1.96166577e-02,  6.72861236e-01,\n",
       "          5.91814134e-01, -3.54040711e-01, -5.73601773e-01,\n",
       "          1.01856295e-01,  1.54902015e+00, -1.23910708e+00,\n",
       "         -1.46752527e+00,  1.64760841e-01,  5.08877019e-02,\n",
       "          1.73341664e-01,  2.43953198e-01],\n",
       "        [-2.23202255e-01,  1.48986344e+00, -1.60090398e+00,\n",
       "         -8.28497025e-01, -1.03254760e-01, -1.64318881e+00,\n",
       "         -1.75854404e-01,  1.66147017e+00,  2.08864883e-02,\n",
       "          2.30700906e-01, -1.26016477e+00, -6.16361408e-01,\n",
       "         -3.75196380e-01, -3.17715097e-01,  1.28164380e+00,\n",
       "          5.57691061e-01, -1.11145796e+00,  2.46504778e-01,\n",
       "          4.98221748e-01,  1.14014904e+00,  1.58054069e+00,\n",
       "         -1.01509419e+00, -8.10857511e-01, -1.25757786e+00,\n",
       "         -2.34019859e-01,  4.66358374e-01,  9.87334517e-01,\n",
       "         -7.59510236e-02, -3.19847523e-01,  1.51757992e-01,\n",
       "         -8.35142902e-01,  2.08953872e+00]]))"
      ]
     },
     "execution_count": 5,
     "metadata": {},
     "output_type": "execute_result"
    }
   ],
   "source": [
    "Q = x @ W_Q\n",
    "K = x @ W_K\n",
    "V = x @ W_V\n",
    "Q, K, V"
   ]
  },
  {
   "cell_type": "code",
   "execution_count": 6,
   "id": "c9b65068",
   "metadata": {},
   "outputs": [
    {
     "data": {
      "text/plain": [
       "(array([[-0.11453053, -0.05738248,  0.10321543, -1.04130746, -0.43192863,\n",
       "         -0.8646357 , -1.50993117, -0.23715366,  0.62148424,  0.91116377,\n",
       "          0.04506594, -0.01802348,  0.39691499, -0.11821209,  0.03326233,\n",
       "          0.40139475,  0.39943984, -0.14424535, -0.95432376,  0.2334463 ,\n",
       "          0.93915525,  0.24874928, -0.05785653,  0.34332897, -0.20764839,\n",
       "          1.02138399, -0.7686249 , -0.51009521,  0.17028792,  0.56685379,\n",
       "         -0.17119402,  0.07858818],\n",
       "        [-0.1244097 ,  0.56974144, -0.77134342, -1.5104768 , -0.45901146,\n",
       "         -1.0712502 , -0.78514348,  0.07083137, -0.15769542,  1.00457576,\n",
       "         -0.05111377,  0.03975772,  0.42363237, -0.60192074,  0.77753083,\n",
       "          0.13559356,  0.19522719, -0.54671561, -1.19337084,  0.59855552,\n",
       "          0.90881041, -0.37589428, -0.3735645 ,  0.52614654, -0.58399924,\n",
       "          1.03304311, -0.45307997,  0.10635556, -0.0619608 ,  0.61495794,\n",
       "         -0.45730382,  0.27530606],\n",
       "        [-0.12155267,  0.53796878, -0.7429348 , -1.61378157, -0.50333751,\n",
       "         -1.01579423, -0.77892231, -0.07812983, -0.27407062,  1.0887253 ,\n",
       "          0.06747854,  0.11625847,  0.51868147, -0.67237204,  0.80148052,\n",
       "          0.05612129,  0.30414685, -0.67303883, -1.42539443,  0.56530786,\n",
       "          0.85314048, -0.34628248, -0.32758803,  0.74548038, -0.64269856,\n",
       "          1.06682075, -0.56528663,  0.18308524, -0.04335554,  0.68364355,\n",
       "         -0.44328266,  0.09602215],\n",
       "        [-0.18761907,  0.60079898, -0.4982939 , -1.09669807, -0.39344719,\n",
       "         -1.03553429, -0.88862606,  0.26706829,  0.00684384,  0.74764319,\n",
       "         -0.30005314, -0.1232798 ,  0.28036846, -0.32723045,  0.67378037,\n",
       "          0.26568591, -0.10200484, -0.24611439, -0.9131926 ,  0.52531034,\n",
       "          1.19618254, -0.16300755, -0.16839761,  0.13227285, -0.27625938,\n",
       "          0.71771323, -0.16235919, -0.16254783,  0.0482803 ,  0.58903388,\n",
       "         -0.43568337,  0.58882908]]),\n",
       " array([[0.33747536, 0.21424953, 0.36372952, 0.08454559],\n",
       "        [0.24389386, 0.47324721, 0.06984175, 0.21301717],\n",
       "        [0.27926937, 0.53652398, 0.04108095, 0.1431257 ],\n",
       "        [0.3414467 , 0.19608395, 0.103968  , 0.35850136]]))"
      ]
     },
     "execution_count": 6,
     "metadata": {},
     "output_type": "execute_result"
    }
   ],
   "source": [
    "# 3. Attention 계산\n",
    "output, weights = scaled_dot_product_attention(Q, K, V)\n",
    "output, weights"
   ]
  },
  {
   "cell_type": "code",
   "execution_count": 7,
   "id": "39fe40ce",
   "metadata": {},
   "outputs": [
    {
     "data": {
      "image/png": "[encoded data removed]",
      "text/plain": [
       "<Figure size 800x600 with 2 Axes>"
      ]
     },
     "metadata": {},
     "output_type": "display_data"
    }
   ],
   "source": [
    "# 4. 시각화\n",
    "plot_attention_weights(tokens, weights)"
   ]
  },
  {
   "cell_type": "code",
   "execution_count": null,
   "id": "051451e9",
   "metadata": {},
   "outputs": [],
   "source": []
  }
 ],
 "metadata": {
  "kernelspec": {
   "display_name": "Python 3",
   "language": "python",
   "name": "python3"
  },
  "language_info": {
   "codemirror_mode": {
    "name": "ipython",
    "version": 3
   },
   "file_extension": ".py",
   "mimetype": "text/x-python",
   "name": "python",
   "nbconvert_exporter": "python",
   "pygments_lexer": "ipython3",
   "version": "3.11.9"
  }
 },
 "nbformat": 4,
 "nbformat_minor": 5
}
